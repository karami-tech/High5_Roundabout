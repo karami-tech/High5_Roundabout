{
 "cells": [
  {
   "cell_type": "markdown",
   "id": "3a330e2d-5614-4b27-9833-ca9421d0dace",
   "metadata": {
    "id": "3a330e2d-5614-4b27-9833-ca9421d0dace"
   },
   "source": [
    "## Import packages"
   ]
  },
  {
   "cell_type": "code",
   "execution_count": 5,
   "id": "298ed17b-d25b-405a-aba6-a6b94e0b7c45",
   "metadata": {},
   "outputs": [],
   "source": [
    "# !pip install torch==2.5.0 torchvision torchaudio"
   ]
  },
  {
   "cell_type": "code",
   "execution_count": 1,
   "id": "4dbe68a9-a015-4079-9d92-419bdd927737",
   "metadata": {
    "executionInfo": {
     "elapsed": 5985,
     "status": "ok",
     "timestamp": 1718296384050,
     "user": {
      "displayName": "Spatial Data GeoAI Lab",
      "userId": "06380705436866579658"
     },
     "user_tz": -120
    },
    "id": "4dbe68a9-a015-4079-9d92-419bdd927737"
   },
   "outputs": [],
   "source": [
    "# Import packages\n",
    "import os\n",
    "from ultralytics import YOLO\n",
    "import shutil"
   ]
  },
  {
   "cell_type": "code",
   "execution_count": 3,
   "id": "58296a8e-27c4-4e53-a008-e1f6c5206bfd",
   "metadata": {},
   "outputs": [],
   "source": [
    "# torch.__version__"
   ]
  },
  {
   "cell_type": "code",
   "execution_count": 2,
   "id": "3ddfc406-a453-4532-b516-70a641763f68",
   "metadata": {
    "executionInfo": {
     "elapsed": 4,
     "status": "ok",
     "timestamp": 1718296384050,
     "user": {
      "displayName": "Spatial Data GeoAI Lab",
      "userId": "06380705436866579658"
     },
     "user_tz": -120
    },
    "id": "3ddfc406-a453-4532-b516-70a641763f68"
   },
   "outputs": [],
   "source": [
    "os.environ[\"KMP_DUPLICATE_LIB_OK\"]=\"TRUE\""
   ]
  },
  {
   "cell_type": "markdown",
   "id": "eb735bd2-dc2a-4bf8-a330-9f07b4bf70c0",
   "metadata": {
    "id": "eb735bd2-dc2a-4bf8-a330-9f07b4bf70c0"
   },
   "source": [
    "## Train"
   ]
  },
  {
   "cell_type": "code",
   "execution_count": 46,
   "id": "0c93f180-b33a-4aeb-a346-ed64fbf45130",
   "metadata": {
    "executionInfo": {
     "elapsed": 3,
     "status": "ok",
     "timestamp": 1718296384050,
     "user": {
      "displayName": "Spatial Data GeoAI Lab",
      "userId": "06380705436866579658"
     },
     "user_tz": -120
    },
    "id": "0c93f180-b33a-4aeb-a346-ed64fbf45130"
   },
   "outputs": [],
   "source": [
    "# Paths to YAML file and project folder\n",
    "data_file = os.path.join(\"test_coco_to_yolo_out\", \"instances_default.yaml\")\n",
    "project_folder = os.path.join(\"data\", \"driveable_part_segmentation\")\n",
    "\n",
    "# Ensure the 'trained_models' directory exists\n",
    "os.makedirs(\"trained_models\", exist_ok=True)"
   ]
  },
  {
   "cell_type": "markdown",
   "id": "ad8658bf-9279-4218-84a2-93fa677cc92d",
   "metadata": {},
   "source": [
    "### Nano"
   ]
  },
  {
   "cell_type": "code",
   "execution_count": 17,
   "id": "M2CB1GBeUsrQ",
   "metadata": {
    "colab": {
     "base_uri": "https://localhost:8080/"
    },
    "executionInfo": {
     "elapsed": 2,
     "status": "ok",
     "timestamp": 1718296384050,
     "user": {
      "displayName": "Spatial Data GeoAI Lab",
      "userId": "06380705436866579658"
     },
     "user_tz": -120
    },
    "id": "M2CB1GBeUsrQ",
    "outputId": "d883cfa0-dff5-40d8-dc3e-cac6292d6b32"
   },
   "outputs": [
    {
     "name": "stdout",
     "output_type": "stream",
     "text": [
      "Trained model is already available in 'trained_models\\yolov8n_roundabouts_100.pt'.\n"
     ]
    }
   ],
   "source": [
    "# Path to model\n",
    "nano_model_path = os.path.join(\"trained_models\", \"yolov8n_roundabouts_100.pt\")\n",
    "\n",
    "# Check if trained model is already available\n",
    "if os.path.isfile(nano_model_path):\n",
    "    print(f\"Trained model is already available in '{nano_model_path}'.\")\n",
    "# If not available, train the model\n",
    "else:\n",
    "    print(\"Trained model is not available, start training...\")\n",
    "\n",
    "    # Load a pretrained model\n",
    "    model = YOLO('yolov8n-seg.pt')\n",
    "\n",
    "    # Train the model\n",
    "    model.train(data=data_file, project=project_folder, name=\"train_nano_model\", epochs=50, batch=8, imgsz=512, device='cpu', optimizer='Adam', lr0=0.001, lrf=0.01, flipud=0.5)\n",
    "\n",
    "    # Copy trained model to /trained_models/yolov8n_roundabouts.pt\n",
    "    src_path = os.path.join(\"data\", \"driveable_part_segmentation\", \"train_nano_model\", \"weights\", \"best.pt\")\n",
    "    shutil.copy(src_path, nano_model_path)\n",
    "    print(f\"Trained model is copied to '{nano_model_path}'.\")"
   ]
  },
  {
   "cell_type": "markdown",
   "id": "2b0f62f3-896a-43da-a714-f26f021bafb3",
   "metadata": {},
   "source": [
    "### Small"
   ]
  },
  {
   "cell_type": "code",
   "execution_count": 51,
   "id": "a8c01056-b939-4dc9-af03-0afc06d440b6",
   "metadata": {
    "scrolled": true
   },
   "outputs": [
    {
     "name": "stdout",
     "output_type": "stream",
     "text": [
      "Trained model is not available, start training...\n",
      "Downloading https://github.com/ultralytics/assets/releases/download/v8.2.0/yolov8s-seg.pt to 'yolov8s-seg.pt'...\n"
     ]
    },
    {
     "name": "stderr",
     "output_type": "stream",
     "text": [
      "100%|█████████████████████████████████████████████████████████████████████████████| 22.8M/22.8M [00:01<00:00, 17.1MB/s]\n"
     ]
    },
    {
     "name": "stdout",
     "output_type": "stream",
     "text": [
      "New https://pypi.org/project/ultralytics/8.3.169 available  Update with 'pip install -U ultralytics'\n",
      "Ultralytics YOLOv8.2.22  Python-3.12.7 torch-2.5.0+cpu CPU (12th Gen Intel Core(TM) i7-12850HX)\n",
      "\u001b[34m\u001b[1mengine\\trainer: \u001b[0mtask=segment, mode=train, model=yolov8s-seg.pt, data=test_coco_to_yolo_out\\instances_default.yaml, epochs=50, time=None, patience=100, batch=8, imgsz=512, save=True, save_period=-1, cache=False, device=cpu, workers=8, project=data\\driveable_part_segmentation, name=train_small_model, exist_ok=False, pretrained=True, optimizer=Adam, verbose=True, seed=0, deterministic=True, single_cls=False, rect=False, cos_lr=False, close_mosaic=10, resume=False, amp=True, fraction=1.0, profile=False, freeze=None, multi_scale=False, overlap_mask=True, mask_ratio=4, dropout=0.0, val=True, split=val, save_json=False, save_hybrid=False, conf=None, iou=0.7, max_det=300, half=False, dnn=False, plots=True, source=None, vid_stride=1, stream_buffer=False, visualize=False, augment=False, agnostic_nms=False, classes=None, retina_masks=False, embed=None, show=False, save_frames=False, save_txt=False, save_conf=False, save_crop=False, show_labels=True, show_conf=True, show_boxes=True, line_width=None, format=torchscript, keras=False, optimize=False, int8=False, dynamic=False, simplify=False, opset=None, workspace=4, nms=False, lr0=0.001, lrf=0.01, momentum=0.937, weight_decay=0.0005, warmup_epochs=3.0, warmup_momentum=0.8, warmup_bias_lr=0.1, box=7.5, cls=0.5, dfl=1.5, pose=12.0, kobj=1.0, label_smoothing=0.0, nbs=64, hsv_h=0.015, hsv_s=0.7, hsv_v=0.4, degrees=0.0, translate=0.1, scale=0.5, shear=0.0, perspective=0.0, flipud=0.5, fliplr=0.5, bgr=0.0, mosaic=1.0, mixup=0.0, copy_paste=0.0, auto_augment=randaugment, erasing=0.4, crop_fraction=1.0, cfg=None, tracker=botsort.yaml, save_dir=data\\driveable_part_segmentation\\train_small_model\n",
      "Overriding model.yaml nc=80 with nc=1\n",
      "\n",
      "                   from  n    params  module                                       arguments                     \n",
      "  0                  -1  1       928  ultralytics.nn.modules.conv.Conv             [3, 32, 3, 2]                 \n",
      "  1                  -1  1     18560  ultralytics.nn.modules.conv.Conv             [32, 64, 3, 2]                \n",
      "  2                  -1  1     29056  ultralytics.nn.modules.block.C2f             [64, 64, 1, True]             \n",
      "  3                  -1  1     73984  ultralytics.nn.modules.conv.Conv             [64, 128, 3, 2]               \n",
      "  4                  -1  2    197632  ultralytics.nn.modules.block.C2f             [128, 128, 2, True]           \n",
      "  5                  -1  1    295424  ultralytics.nn.modules.conv.Conv             [128, 256, 3, 2]              \n",
      "  6                  -1  2    788480  ultralytics.nn.modules.block.C2f             [256, 256, 2, True]           \n",
      "  7                  -1  1   1180672  ultralytics.nn.modules.conv.Conv             [256, 512, 3, 2]              \n",
      "  8                  -1  1   1838080  ultralytics.nn.modules.block.C2f             [512, 512, 1, True]           \n",
      "  9                  -1  1    656896  ultralytics.nn.modules.block.SPPF            [512, 512, 5]                 \n",
      " 10                  -1  1         0  torch.nn.modules.upsampling.Upsample         [None, 2, 'nearest']          \n",
      " 11             [-1, 6]  1         0  ultralytics.nn.modules.conv.Concat           [1]                           \n",
      " 12                  -1  1    591360  ultralytics.nn.modules.block.C2f             [768, 256, 1]                 \n",
      " 13                  -1  1         0  torch.nn.modules.upsampling.Upsample         [None, 2, 'nearest']          \n",
      " 14             [-1, 4]  1         0  ultralytics.nn.modules.conv.Concat           [1]                           \n",
      " 15                  -1  1    148224  ultralytics.nn.modules.block.C2f             [384, 128, 1]                 \n",
      " 16                  -1  1    147712  ultralytics.nn.modules.conv.Conv             [128, 128, 3, 2]              \n",
      " 17            [-1, 12]  1         0  ultralytics.nn.modules.conv.Concat           [1]                           \n",
      " 18                  -1  1    493056  ultralytics.nn.modules.block.C2f             [384, 256, 1]                 \n",
      " 19                  -1  1    590336  ultralytics.nn.modules.conv.Conv             [256, 256, 3, 2]              \n",
      " 20             [-1, 9]  1         0  ultralytics.nn.modules.conv.Concat           [1]                           \n",
      " 21                  -1  1   1969152  ultralytics.nn.modules.block.C2f             [768, 512, 1]                 \n",
      " 22        [15, 18, 21]  1   2770931  ultralytics.nn.modules.head.Segment          [1, 32, 128, [128, 256, 512]] \n",
      "YOLOv8s-seg summary: 261 layers, 11790483 parameters, 11790467 gradients, 42.7 GFLOPs\n",
      "\n",
      "Transferred 411/417 items from pretrained weights\n",
      "\u001b[34m\u001b[1mTensorBoard: \u001b[0mStart with 'tensorboard --logdir data\\driveable_part_segmentation\\train_small_model', view at http://localhost:6006/\n",
      "Freezing layer 'model.22.dfl.conv.weight'\n"
     ]
    },
    {
     "name": "stderr",
     "output_type": "stream",
     "text": [
      "\u001b[34m\u001b[1mtrain: \u001b[0mScanning test_coco_to_yolo_out\\labels... 80 images, 0 backgrounds, 0 corrupt: 100%|██████████| 80/80 [00:00<00:0\u001b[0m"
     ]
    },
    {
     "name": "stdout",
     "output_type": "stream",
     "text": [
      "\u001b[34m\u001b[1mtrain: \u001b[0mNew cache created: test_coco_to_yolo_out\\labels.cache\n"
     ]
    },
    {
     "name": "stderr",
     "output_type": "stream",
     "text": [
      "\n",
      "\u001b[34m\u001b[1mval: \u001b[0mScanning test_coco_to_yolo_out\\labels... 10 images, 0 backgrounds, 0 corrupt: 100%|██████████| 10/10 [00:00<00:00,\u001b[0m"
     ]
    },
    {
     "name": "stdout",
     "output_type": "stream",
     "text": [
      "\u001b[34m\u001b[1mval: \u001b[0mNew cache created: test_coco_to_yolo_out\\labels.cache\n",
      "Plotting labels to data\\driveable_part_segmentation\\train_small_model\\labels.jpg... \n"
     ]
    },
    {
     "name": "stderr",
     "output_type": "stream",
     "text": [
      "\n"
     ]
    },
    {
     "name": "stdout",
     "output_type": "stream",
     "text": [
      "\u001b[34m\u001b[1moptimizer:\u001b[0m Adam(lr=0.001, momentum=0.937) with parameter groups 66 weight(decay=0.0), 77 weight(decay=0.0005), 76 bias(decay=0.0)\n",
      "\u001b[34m\u001b[1mTensorBoard: \u001b[0mmodel graph visualization added \n",
      "Image sizes 512 train, 512 val\n",
      "Using 0 dataloader workers\n",
      "Logging results to \u001b[1mdata\\driveable_part_segmentation\\train_small_model\u001b[0m\n",
      "Starting training for 50 epochs...\n",
      "\n",
      "      Epoch    GPU_mem   box_loss   seg_loss   cls_loss   dfl_loss  Instances       Size\n"
     ]
    },
    {
     "name": "stderr",
     "output_type": "stream",
     "text": [
      "       1/50         0G       1.22      4.142      2.106      1.548         20        512: 100%|██████████| 10/10 [00:18\n",
      "                 Class     Images  Instances      Box(P          R      mAP50  mAP50-95)     Mask(P          R      mAP"
     ]
    },
    {
     "name": "stdout",
     "output_type": "stream",
     "text": [
      "                   all         10         10     0.0646        0.1     0.0287     0.0109    0.00131        0.1   0.000878   8.78e-05\n"
     ]
    },
    {
     "name": "stderr",
     "output_type": "stream",
     "text": [
      "\n"
     ]
    },
    {
     "name": "stdout",
     "output_type": "stream",
     "text": [
      "\n",
      "      Epoch    GPU_mem   box_loss   seg_loss   cls_loss   dfl_loss  Instances       Size\n"
     ]
    },
    {
     "name": "stderr",
     "output_type": "stream",
     "text": [
      "       2/50         0G     0.7524      2.126     0.9394      1.135         19        512: 100%|██████████| 10/10 [00:17\n",
      "                 Class     Images  Instances      Box(P          R      mAP50  mAP50-95)     Mask(P          R      mAP"
     ]
    },
    {
     "name": "stdout",
     "output_type": "stream",
     "text": [
      "                   all         10         10     0.0951        0.1     0.0445     0.0238     0.0951        0.1     0.0167    0.00167\n"
     ]
    },
    {
     "name": "stderr",
     "output_type": "stream",
     "text": [
      "\n"
     ]
    },
    {
     "name": "stdout",
     "output_type": "stream",
     "text": [
      "\n",
      "      Epoch    GPU_mem   box_loss   seg_loss   cls_loss   dfl_loss  Instances       Size\n"
     ]
    },
    {
     "name": "stderr",
     "output_type": "stream",
     "text": [
      "       3/50         0G     0.7651      1.811     0.9083      1.142         16        512: 100%|██████████| 10/10 [00:17\n",
      "                 Class     Images  Instances      Box(P          R      mAP50  mAP50-95)     Mask(P          R      mAP"
     ]
    },
    {
     "name": "stdout",
     "output_type": "stream",
     "text": [
      "                   all         10         10      0.739      0.287      0.312      0.251          0          0          0          0\n"
     ]
    },
    {
     "name": "stderr",
     "output_type": "stream",
     "text": [
      "\n"
     ]
    },
    {
     "name": "stdout",
     "output_type": "stream",
     "text": [
      "\n",
      "      Epoch    GPU_mem   box_loss   seg_loss   cls_loss   dfl_loss  Instances       Size\n"
     ]
    },
    {
     "name": "stderr",
     "output_type": "stream",
     "text": [
      "       4/50         0G     0.7093      1.596     0.7253      1.131         19        512: 100%|██████████| 10/10 [00:18\n",
      "                 Class     Images  Instances      Box(P          R      mAP50  mAP50-95)     Mask(P          R      mAP"
     ]
    },
    {
     "name": "stdout",
     "output_type": "stream",
     "text": [
      "                   all         10         10      0.971        0.7      0.813      0.646          0          0          0          0\n"
     ]
    },
    {
     "name": "stderr",
     "output_type": "stream",
     "text": [
      "\n"
     ]
    },
    {
     "name": "stdout",
     "output_type": "stream",
     "text": [
      "\n",
      "      Epoch    GPU_mem   box_loss   seg_loss   cls_loss   dfl_loss  Instances       Size\n"
     ]
    },
    {
     "name": "stderr",
     "output_type": "stream",
     "text": [
      "       5/50         0G     0.6646      1.484      0.709      1.094         23        512: 100%|██████████| 10/10 [00:18\n",
      "                 Class     Images  Instances      Box(P          R      mAP50  mAP50-95)     Mask(P          R      mAP"
     ]
    },
    {
     "name": "stdout",
     "output_type": "stream",
     "text": [
      "                   all         10         10       0.98          1      0.995      0.858          0          0          0          0\n"
     ]
    },
    {
     "name": "stderr",
     "output_type": "stream",
     "text": [
      "\n"
     ]
    },
    {
     "name": "stdout",
     "output_type": "stream",
     "text": [
      "\n",
      "      Epoch    GPU_mem   box_loss   seg_loss   cls_loss   dfl_loss  Instances       Size\n"
     ]
    },
    {
     "name": "stderr",
     "output_type": "stream",
     "text": [
      "       6/50         0G     0.6044      1.331     0.5994       1.04         25        512: 100%|██████████| 10/10 [00:18\n",
      "                 Class     Images  Instances      Box(P          R      mAP50  mAP50-95)     Mask(P          R      mAP"
     ]
    },
    {
     "name": "stdout",
     "output_type": "stream",
     "text": [
      "                   all         10         10      0.955          1      0.995      0.816    0.00037        0.1   0.000356   7.11e-05\n"
     ]
    },
    {
     "name": "stderr",
     "output_type": "stream",
     "text": [
      "\n"
     ]
    },
    {
     "name": "stdout",
     "output_type": "stream",
     "text": [
      "\n",
      "      Epoch    GPU_mem   box_loss   seg_loss   cls_loss   dfl_loss  Instances       Size\n"
     ]
    },
    {
     "name": "stderr",
     "output_type": "stream",
     "text": [
      "       7/50         0G     0.6907      1.361     0.6492      1.094         19        512: 100%|██████████| 10/10 [00:18\n",
      "                 Class     Images  Instances      Box(P          R      mAP50  mAP50-95)     Mask(P          R      mAP"
     ]
    },
    {
     "name": "stdout",
     "output_type": "stream",
     "text": [
      "                   all         10         10      0.945          1      0.995      0.815      0.284        0.3      0.149     0.0466\n"
     ]
    },
    {
     "name": "stderr",
     "output_type": "stream",
     "text": [
      "\n"
     ]
    },
    {
     "name": "stdout",
     "output_type": "stream",
     "text": [
      "\n",
      "      Epoch    GPU_mem   box_loss   seg_loss   cls_loss   dfl_loss  Instances       Size\n"
     ]
    },
    {
     "name": "stderr",
     "output_type": "stream",
     "text": [
      "       8/50         0G     0.6276      1.298     0.6076      1.035         28        512: 100%|██████████| 10/10 [00:18\n",
      "                 Class     Images  Instances      Box(P          R      mAP50  mAP50-95)     Mask(P          R      mAP"
     ]
    },
    {
     "name": "stdout",
     "output_type": "stream",
     "text": [
      "                   all         10         10      0.908          1      0.995      0.872      0.548        0.6      0.472     0.0931\n"
     ]
    },
    {
     "name": "stderr",
     "output_type": "stream",
     "text": [
      "\n"
     ]
    },
    {
     "name": "stdout",
     "output_type": "stream",
     "text": [
      "\n",
      "      Epoch    GPU_mem   box_loss   seg_loss   cls_loss   dfl_loss  Instances       Size\n"
     ]
    },
    {
     "name": "stderr",
     "output_type": "stream",
     "text": [
      "       9/50         0G     0.6024      1.253     0.5948      1.053         26        512: 100%|██████████| 10/10 [00:18\n",
      "                 Class     Images  Instances      Box(P          R      mAP50  mAP50-95)     Mask(P          R      mAP"
     ]
    },
    {
     "name": "stdout",
     "output_type": "stream",
     "text": [
      "                   all         10         10      0.905          1      0.995      0.864      0.543        0.6      0.441      0.113\n"
     ]
    },
    {
     "name": "stderr",
     "output_type": "stream",
     "text": [
      "\n"
     ]
    },
    {
     "name": "stdout",
     "output_type": "stream",
     "text": [
      "\n",
      "      Epoch    GPU_mem   box_loss   seg_loss   cls_loss   dfl_loss  Instances       Size\n"
     ]
    },
    {
     "name": "stderr",
     "output_type": "stream",
     "text": [
      "      10/50         0G      0.587      1.212     0.5599      1.023         21        512: 100%|██████████| 10/10 [00:18\n",
      "                 Class     Images  Instances      Box(P          R      mAP50  mAP50-95)     Mask(P          R      mAP"
     ]
    },
    {
     "name": "stdout",
     "output_type": "stream",
     "text": [
      "                   all         10         10      0.995          1      0.995      0.902      0.895        0.9      0.877      0.338\n"
     ]
    },
    {
     "name": "stderr",
     "output_type": "stream",
     "text": [
      "\n"
     ]
    },
    {
     "name": "stdout",
     "output_type": "stream",
     "text": [
      "\n",
      "      Epoch    GPU_mem   box_loss   seg_loss   cls_loss   dfl_loss  Instances       Size\n"
     ]
    },
    {
     "name": "stderr",
     "output_type": "stream",
     "text": [
      "      11/50         0G     0.6413      1.286      0.609      1.043         22        512: 100%|██████████| 10/10 [00:18\n",
      "                 Class     Images  Instances      Box(P          R      mAP50  mAP50-95)     Mask(P          R      mAP"
     ]
    },
    {
     "name": "stdout",
     "output_type": "stream",
     "text": [
      "                   all         10         10      0.994          1      0.995      0.896      0.895        0.9      0.857      0.431\n"
     ]
    },
    {
     "name": "stderr",
     "output_type": "stream",
     "text": [
      "\n"
     ]
    },
    {
     "name": "stdout",
     "output_type": "stream",
     "text": [
      "\n",
      "      Epoch    GPU_mem   box_loss   seg_loss   cls_loss   dfl_loss  Instances       Size\n"
     ]
    },
    {
     "name": "stderr",
     "output_type": "stream",
     "text": [
      "      12/50         0G     0.6091      1.167      0.503      1.011         29        512: 100%|██████████| 10/10 [00:18\n",
      "                 Class     Images  Instances      Box(P          R      mAP50  mAP50-95)     Mask(P          R      mAP"
     ]
    },
    {
     "name": "stdout",
     "output_type": "stream",
     "text": [
      "                   all         10         10      0.995          1      0.995      0.905      0.995          1      0.995      0.614\n"
     ]
    },
    {
     "name": "stderr",
     "output_type": "stream",
     "text": [
      "\n"
     ]
    },
    {
     "name": "stdout",
     "output_type": "stream",
     "text": [
      "\n",
      "      Epoch    GPU_mem   box_loss   seg_loss   cls_loss   dfl_loss  Instances       Size\n"
     ]
    },
    {
     "name": "stderr",
     "output_type": "stream",
     "text": [
      "      13/50         0G     0.6497      1.316     0.6328      1.062         15        512: 100%|██████████| 10/10 [00:17\n",
      "                 Class     Images  Instances      Box(P          R      mAP50  mAP50-95)     Mask(P          R      mAP"
     ]
    },
    {
     "name": "stdout",
     "output_type": "stream",
     "text": [
      "                   all         10         10      0.995          1      0.995      0.889      0.995          1      0.995      0.678\n"
     ]
    },
    {
     "name": "stderr",
     "output_type": "stream",
     "text": [
      "\n"
     ]
    },
    {
     "name": "stdout",
     "output_type": "stream",
     "text": [
      "\n",
      "      Epoch    GPU_mem   box_loss   seg_loss   cls_loss   dfl_loss  Instances       Size\n"
     ]
    },
    {
     "name": "stderr",
     "output_type": "stream",
     "text": [
      "      14/50         0G     0.5411      1.185     0.5827      1.026         20        512: 100%|██████████| 10/10 [00:18\n",
      "                 Class     Images  Instances      Box(P          R      mAP50  mAP50-95)     Mask(P          R      mAP"
     ]
    },
    {
     "name": "stdout",
     "output_type": "stream",
     "text": [
      "                   all         10         10      0.987          1      0.995       0.88      0.987          1      0.995       0.69\n"
     ]
    },
    {
     "name": "stderr",
     "output_type": "stream",
     "text": [
      "\n"
     ]
    },
    {
     "name": "stdout",
     "output_type": "stream",
     "text": [
      "\n",
      "      Epoch    GPU_mem   box_loss   seg_loss   cls_loss   dfl_loss  Instances       Size\n"
     ]
    },
    {
     "name": "stderr",
     "output_type": "stream",
     "text": [
      "      15/50         0G     0.5827      1.139     0.5967      1.012         20        512: 100%|██████████| 10/10 [00:18\n",
      "                 Class     Images  Instances      Box(P          R      mAP50  mAP50-95)     Mask(P          R      mAP"
     ]
    },
    {
     "name": "stdout",
     "output_type": "stream",
     "text": [
      "                   all         10         10      0.995          1      0.995      0.887      0.995          1      0.995      0.702\n"
     ]
    },
    {
     "name": "stderr",
     "output_type": "stream",
     "text": [
      "\n"
     ]
    },
    {
     "name": "stdout",
     "output_type": "stream",
     "text": [
      "\n",
      "      Epoch    GPU_mem   box_loss   seg_loss   cls_loss   dfl_loss  Instances       Size\n"
     ]
    },
    {
     "name": "stderr",
     "output_type": "stream",
     "text": [
      "      16/50         0G      0.538      1.168     0.5274     0.9936         24        512: 100%|██████████| 10/10 [00:18\n",
      "                 Class     Images  Instances      Box(P          R      mAP50  mAP50-95)     Mask(P          R      mAP"
     ]
    },
    {
     "name": "stdout",
     "output_type": "stream",
     "text": [
      "                   all         10         10      0.995          1      0.995      0.906      0.995          1      0.995      0.709\n"
     ]
    },
    {
     "name": "stderr",
     "output_type": "stream",
     "text": [
      "\n"
     ]
    },
    {
     "name": "stdout",
     "output_type": "stream",
     "text": [
      "\n",
      "      Epoch    GPU_mem   box_loss   seg_loss   cls_loss   dfl_loss  Instances       Size\n"
     ]
    },
    {
     "name": "stderr",
     "output_type": "stream",
     "text": [
      "      17/50         0G     0.5551      1.079     0.5307      1.001         19        512: 100%|██████████| 10/10 [00:18\n",
      "                 Class     Images  Instances      Box(P          R      mAP50  mAP50-95)     Mask(P          R      mAP"
     ]
    },
    {
     "name": "stdout",
     "output_type": "stream",
     "text": [
      "                   all         10         10      0.995          1      0.995      0.893      0.995          1      0.995      0.692\n"
     ]
    },
    {
     "name": "stderr",
     "output_type": "stream",
     "text": [
      "\n"
     ]
    },
    {
     "name": "stdout",
     "output_type": "stream",
     "text": [
      "\n",
      "      Epoch    GPU_mem   box_loss   seg_loss   cls_loss   dfl_loss  Instances       Size\n"
     ]
    },
    {
     "name": "stderr",
     "output_type": "stream",
     "text": [
      "      18/50         0G     0.5746      1.109     0.4926     0.9964         15        512: 100%|██████████| 10/10 [00:18\n",
      "                 Class     Images  Instances      Box(P          R      mAP50  mAP50-95)     Mask(P          R      mAP"
     ]
    },
    {
     "name": "stdout",
     "output_type": "stream",
     "text": [
      "                   all         10         10      0.995          1      0.995      0.847      0.995          1      0.995      0.695\n"
     ]
    },
    {
     "name": "stderr",
     "output_type": "stream",
     "text": [
      "\n"
     ]
    },
    {
     "name": "stdout",
     "output_type": "stream",
     "text": [
      "\n",
      "      Epoch    GPU_mem   box_loss   seg_loss   cls_loss   dfl_loss  Instances       Size\n"
     ]
    },
    {
     "name": "stderr",
     "output_type": "stream",
     "text": [
      "      19/50         0G     0.5741      1.092     0.5344      1.012         20        512: 100%|██████████| 10/10 [00:18\n",
      "                 Class     Images  Instances      Box(P          R      mAP50  mAP50-95)     Mask(P          R      mAP"
     ]
    },
    {
     "name": "stdout",
     "output_type": "stream",
     "text": [
      "                   all         10         10      0.995          1      0.995      0.838      0.995          1      0.995      0.654\n"
     ]
    },
    {
     "name": "stderr",
     "output_type": "stream",
     "text": [
      "\n"
     ]
    },
    {
     "name": "stdout",
     "output_type": "stream",
     "text": [
      "\n",
      "      Epoch    GPU_mem   box_loss   seg_loss   cls_loss   dfl_loss  Instances       Size\n"
     ]
    },
    {
     "name": "stderr",
     "output_type": "stream",
     "text": [
      "      20/50         0G     0.5612      1.049      0.492      1.023         19        512: 100%|██████████| 10/10 [00:18\n",
      "                 Class     Images  Instances      Box(P          R      mAP50  mAP50-95)     Mask(P          R      mAP"
     ]
    },
    {
     "name": "stdout",
     "output_type": "stream",
     "text": [
      "                   all         10         10      0.995          1      0.995      0.819      0.995          1      0.995      0.659\n"
     ]
    },
    {
     "name": "stderr",
     "output_type": "stream",
     "text": [
      "\n"
     ]
    },
    {
     "name": "stdout",
     "output_type": "stream",
     "text": [
      "\n",
      "      Epoch    GPU_mem   box_loss   seg_loss   cls_loss   dfl_loss  Instances       Size\n"
     ]
    },
    {
     "name": "stderr",
     "output_type": "stream",
     "text": [
      "      21/50         0G     0.5182      1.092     0.4698     0.9983         20        512: 100%|██████████| 10/10 [00:18\n",
      "                 Class     Images  Instances      Box(P          R      mAP50  mAP50-95)     Mask(P          R      mAP"
     ]
    },
    {
     "name": "stdout",
     "output_type": "stream",
     "text": [
      "                   all         10         10      0.993          1      0.995      0.791      0.993          1      0.995      0.646\n"
     ]
    },
    {
     "name": "stderr",
     "output_type": "stream",
     "text": [
      "\n"
     ]
    },
    {
     "name": "stdout",
     "output_type": "stream",
     "text": [
      "\n",
      "      Epoch    GPU_mem   box_loss   seg_loss   cls_loss   dfl_loss  Instances       Size\n"
     ]
    },
    {
     "name": "stderr",
     "output_type": "stream",
     "text": [
      "      22/50         0G     0.5589      1.068     0.4834      1.002         20        512: 100%|██████████| 10/10 [00:18\n",
      "                 Class     Images  Instances      Box(P          R      mAP50  mAP50-95)     Mask(P          R      mAP"
     ]
    },
    {
     "name": "stdout",
     "output_type": "stream",
     "text": [
      "                   all         10         10      0.995          1      0.995      0.843      0.995          1      0.995      0.626\n"
     ]
    },
    {
     "name": "stderr",
     "output_type": "stream",
     "text": [
      "\n"
     ]
    },
    {
     "name": "stdout",
     "output_type": "stream",
     "text": [
      "\n",
      "      Epoch    GPU_mem   box_loss   seg_loss   cls_loss   dfl_loss  Instances       Size\n"
     ]
    },
    {
     "name": "stderr",
     "output_type": "stream",
     "text": [
      "      23/50         0G     0.5208      1.035     0.4447      1.009         21        512: 100%|██████████| 10/10 [00:19\n",
      "                 Class     Images  Instances      Box(P          R      mAP50  mAP50-95)     Mask(P          R      mAP"
     ]
    },
    {
     "name": "stdout",
     "output_type": "stream",
     "text": [
      "                   all         10         10      0.995          1      0.995      0.858      0.995          1      0.995      0.677\n"
     ]
    },
    {
     "name": "stderr",
     "output_type": "stream",
     "text": [
      "\n"
     ]
    },
    {
     "name": "stdout",
     "output_type": "stream",
     "text": [
      "\n",
      "      Epoch    GPU_mem   box_loss   seg_loss   cls_loss   dfl_loss  Instances       Size\n"
     ]
    },
    {
     "name": "stderr",
     "output_type": "stream",
     "text": [
      "      24/50         0G      0.509     0.9812     0.4549     0.9741         17        512: 100%|██████████| 10/10 [00:18\n",
      "                 Class     Images  Instances      Box(P          R      mAP50  mAP50-95)     Mask(P          R      mAP"
     ]
    },
    {
     "name": "stdout",
     "output_type": "stream",
     "text": [
      "                   all         10         10      0.995          1      0.995      0.906      0.995          1      0.995      0.716\n"
     ]
    },
    {
     "name": "stderr",
     "output_type": "stream",
     "text": [
      "\n"
     ]
    },
    {
     "name": "stdout",
     "output_type": "stream",
     "text": [
      "\n",
      "      Epoch    GPU_mem   box_loss   seg_loss   cls_loss   dfl_loss  Instances       Size\n"
     ]
    },
    {
     "name": "stderr",
     "output_type": "stream",
     "text": [
      "      25/50         0G     0.5029     0.9071      0.409     0.9758         20        512: 100%|██████████| 10/10 [00:18\n",
      "                 Class     Images  Instances      Box(P          R      mAP50  mAP50-95)     Mask(P          R      mAP"
     ]
    },
    {
     "name": "stdout",
     "output_type": "stream",
     "text": [
      "                   all         10         10      0.995          1      0.995      0.948      0.995          1      0.995      0.733\n"
     ]
    },
    {
     "name": "stderr",
     "output_type": "stream",
     "text": [
      "\n"
     ]
    },
    {
     "name": "stdout",
     "output_type": "stream",
     "text": [
      "\n",
      "      Epoch    GPU_mem   box_loss   seg_loss   cls_loss   dfl_loss  Instances       Size\n"
     ]
    },
    {
     "name": "stderr",
     "output_type": "stream",
     "text": [
      "      26/50         0G     0.5662      1.141     0.4984      1.036         22        512: 100%|██████████| 10/10 [00:18\n",
      "                 Class     Images  Instances      Box(P          R      mAP50  mAP50-95)     Mask(P          R      mAP"
     ]
    },
    {
     "name": "stdout",
     "output_type": "stream",
     "text": [
      "                   all         10         10      0.995          1      0.995      0.925      0.995          1      0.995      0.735\n"
     ]
    },
    {
     "name": "stderr",
     "output_type": "stream",
     "text": [
      "\n"
     ]
    },
    {
     "name": "stdout",
     "output_type": "stream",
     "text": [
      "\n",
      "      Epoch    GPU_mem   box_loss   seg_loss   cls_loss   dfl_loss  Instances       Size\n"
     ]
    },
    {
     "name": "stderr",
     "output_type": "stream",
     "text": [
      "      27/50         0G     0.4813     0.9464     0.3971     0.9783         23        512: 100%|██████████| 10/10 [00:18\n",
      "                 Class     Images  Instances      Box(P          R      mAP50  mAP50-95)     Mask(P          R      mAP"
     ]
    },
    {
     "name": "stdout",
     "output_type": "stream",
     "text": [
      "                   all         10         10      0.995          1      0.995      0.916      0.995          1      0.995      0.734\n"
     ]
    },
    {
     "name": "stderr",
     "output_type": "stream",
     "text": [
      "\n"
     ]
    },
    {
     "name": "stdout",
     "output_type": "stream",
     "text": [
      "\n",
      "      Epoch    GPU_mem   box_loss   seg_loss   cls_loss   dfl_loss  Instances       Size\n"
     ]
    },
    {
     "name": "stderr",
     "output_type": "stream",
     "text": [
      "      28/50         0G     0.4668     0.8739     0.4071     0.9618         20        512: 100%|██████████| 10/10 [00:18\n",
      "                 Class     Images  Instances      Box(P          R      mAP50  mAP50-95)     Mask(P          R      mAP"
     ]
    },
    {
     "name": "stdout",
     "output_type": "stream",
     "text": [
      "                   all         10         10      0.995          1      0.995      0.913      0.995          1      0.995      0.718\n"
     ]
    },
    {
     "name": "stderr",
     "output_type": "stream",
     "text": [
      "\n"
     ]
    },
    {
     "name": "stdout",
     "output_type": "stream",
     "text": [
      "\n",
      "      Epoch    GPU_mem   box_loss   seg_loss   cls_loss   dfl_loss  Instances       Size\n"
     ]
    },
    {
     "name": "stderr",
     "output_type": "stream",
     "text": [
      "      29/50         0G     0.5035      1.007     0.4506     0.9795         21        512: 100%|██████████| 10/10 [00:18\n",
      "                 Class     Images  Instances      Box(P          R      mAP50  mAP50-95)     Mask(P          R      mAP"
     ]
    },
    {
     "name": "stdout",
     "output_type": "stream",
     "text": [
      "                   all         10         10      0.994          1      0.995      0.913      0.994          1      0.995      0.735\n"
     ]
    },
    {
     "name": "stderr",
     "output_type": "stream",
     "text": [
      "\n"
     ]
    },
    {
     "name": "stdout",
     "output_type": "stream",
     "text": [
      "\n",
      "      Epoch    GPU_mem   box_loss   seg_loss   cls_loss   dfl_loss  Instances       Size\n"
     ]
    },
    {
     "name": "stderr",
     "output_type": "stream",
     "text": [
      "      30/50         0G     0.4562     0.9339     0.3788     0.9422         16        512: 100%|██████████| 10/10 [00:18\n",
      "                 Class     Images  Instances      Box(P          R      mAP50  mAP50-95)     Mask(P          R      mAP"
     ]
    },
    {
     "name": "stdout",
     "output_type": "stream",
     "text": [
      "                   all         10         10      0.992          1      0.995       0.92      0.992          1      0.995      0.729\n"
     ]
    },
    {
     "name": "stderr",
     "output_type": "stream",
     "text": [
      "\n"
     ]
    },
    {
     "name": "stdout",
     "output_type": "stream",
     "text": [
      "\n",
      "      Epoch    GPU_mem   box_loss   seg_loss   cls_loss   dfl_loss  Instances       Size\n"
     ]
    },
    {
     "name": "stderr",
     "output_type": "stream",
     "text": [
      "      31/50         0G     0.4809      0.856     0.3908     0.9765         22        512: 100%|██████████| 10/10 [00:18\n",
      "                 Class     Images  Instances      Box(P          R      mAP50  mAP50-95)     Mask(P          R      mAP"
     ]
    },
    {
     "name": "stdout",
     "output_type": "stream",
     "text": [
      "                   all         10         10      0.991          1      0.995      0.904      0.991          1      0.995      0.734\n"
     ]
    },
    {
     "name": "stderr",
     "output_type": "stream",
     "text": [
      "\n"
     ]
    },
    {
     "name": "stdout",
     "output_type": "stream",
     "text": [
      "\n",
      "      Epoch    GPU_mem   box_loss   seg_loss   cls_loss   dfl_loss  Instances       Size\n"
     ]
    },
    {
     "name": "stderr",
     "output_type": "stream",
     "text": [
      "      32/50         0G     0.4992     0.9767     0.4162     0.9825         22        512: 100%|██████████| 10/10 [00:17\n",
      "                 Class     Images  Instances      Box(P          R      mAP50  mAP50-95)     Mask(P          R      mAP"
     ]
    },
    {
     "name": "stdout",
     "output_type": "stream",
     "text": [
      "                   all         10         10      0.991          1      0.995       0.89      0.991          1      0.995      0.741\n"
     ]
    },
    {
     "name": "stderr",
     "output_type": "stream",
     "text": [
      "\n"
     ]
    },
    {
     "name": "stdout",
     "output_type": "stream",
     "text": [
      "\n",
      "      Epoch    GPU_mem   box_loss   seg_loss   cls_loss   dfl_loss  Instances       Size\n"
     ]
    },
    {
     "name": "stderr",
     "output_type": "stream",
     "text": [
      "      33/50         0G     0.4414      0.848     0.3888     0.9793         24        512: 100%|██████████| 10/10 [00:18\n",
      "                 Class     Images  Instances      Box(P          R      mAP50  mAP50-95)     Mask(P          R      mAP"
     ]
    },
    {
     "name": "stdout",
     "output_type": "stream",
     "text": [
      "                   all         10         10      0.993          1      0.995      0.877      0.993          1      0.995      0.756\n"
     ]
    },
    {
     "name": "stderr",
     "output_type": "stream",
     "text": [
      "\n"
     ]
    },
    {
     "name": "stdout",
     "output_type": "stream",
     "text": [
      "\n",
      "      Epoch    GPU_mem   box_loss   seg_loss   cls_loss   dfl_loss  Instances       Size\n"
     ]
    },
    {
     "name": "stderr",
     "output_type": "stream",
     "text": [
      "      34/50         0G      0.488     0.9092     0.3959     0.9706         19        512: 100%|██████████| 10/10 [00:18\n",
      "                 Class     Images  Instances      Box(P          R      mAP50  mAP50-95)     Mask(P          R      mAP"
     ]
    },
    {
     "name": "stdout",
     "output_type": "stream",
     "text": [
      "                   all         10         10      0.995          1      0.995       0.89      0.995          1      0.995       0.74\n"
     ]
    },
    {
     "name": "stderr",
     "output_type": "stream",
     "text": [
      "\n"
     ]
    },
    {
     "name": "stdout",
     "output_type": "stream",
     "text": [
      "\n",
      "      Epoch    GPU_mem   box_loss   seg_loss   cls_loss   dfl_loss  Instances       Size\n"
     ]
    },
    {
     "name": "stderr",
     "output_type": "stream",
     "text": [
      "      35/50         0G     0.4311     0.9062     0.3641     0.9718         13        512: 100%|██████████| 10/10 [00:18\n",
      "                 Class     Images  Instances      Box(P          R      mAP50  mAP50-95)     Mask(P          R      mAP"
     ]
    },
    {
     "name": "stdout",
     "output_type": "stream",
     "text": [
      "                   all         10         10      0.995          1      0.995      0.908      0.995          1      0.995      0.758\n"
     ]
    },
    {
     "name": "stderr",
     "output_type": "stream",
     "text": [
      "\n"
     ]
    },
    {
     "name": "stdout",
     "output_type": "stream",
     "text": [
      "\n",
      "      Epoch    GPU_mem   box_loss   seg_loss   cls_loss   dfl_loss  Instances       Size\n"
     ]
    },
    {
     "name": "stderr",
     "output_type": "stream",
     "text": [
      "      36/50         0G     0.4352      0.767     0.3563     0.9491         19        512: 100%|██████████| 10/10 [00:18\n",
      "                 Class     Images  Instances      Box(P          R      mAP50  mAP50-95)     Mask(P          R      mAP"
     ]
    },
    {
     "name": "stdout",
     "output_type": "stream",
     "text": [
      "                   all         10         10      0.995          1      0.995      0.904      0.995          1      0.995      0.765\n"
     ]
    },
    {
     "name": "stderr",
     "output_type": "stream",
     "text": [
      "\n"
     ]
    },
    {
     "name": "stdout",
     "output_type": "stream",
     "text": [
      "\n",
      "      Epoch    GPU_mem   box_loss   seg_loss   cls_loss   dfl_loss  Instances       Size\n"
     ]
    },
    {
     "name": "stderr",
     "output_type": "stream",
     "text": [
      "      37/50         0G     0.4552     0.8409     0.3612     0.9879         15        512: 100%|██████████| 10/10 [00:17\n",
      "                 Class     Images  Instances      Box(P          R      mAP50  mAP50-95)     Mask(P          R      mAP"
     ]
    },
    {
     "name": "stdout",
     "output_type": "stream",
     "text": [
      "                   all         10         10      0.994          1      0.995      0.921      0.994          1      0.995      0.766\n"
     ]
    },
    {
     "name": "stderr",
     "output_type": "stream",
     "text": [
      "\n"
     ]
    },
    {
     "name": "stdout",
     "output_type": "stream",
     "text": [
      "\n",
      "      Epoch    GPU_mem   box_loss   seg_loss   cls_loss   dfl_loss  Instances       Size\n"
     ]
    },
    {
     "name": "stderr",
     "output_type": "stream",
     "text": [
      "      38/50         0G     0.4729     0.8631     0.3739     0.9529         24        512: 100%|██████████| 10/10 [00:17\n",
      "                 Class     Images  Instances      Box(P          R      mAP50  mAP50-95)     Mask(P          R      mAP"
     ]
    },
    {
     "name": "stdout",
     "output_type": "stream",
     "text": [
      "                   all         10         10      0.994          1      0.995      0.893      0.994          1      0.995      0.709\n"
     ]
    },
    {
     "name": "stderr",
     "output_type": "stream",
     "text": [
      "\n"
     ]
    },
    {
     "name": "stdout",
     "output_type": "stream",
     "text": [
      "\n",
      "      Epoch    GPU_mem   box_loss   seg_loss   cls_loss   dfl_loss  Instances       Size\n"
     ]
    },
    {
     "name": "stderr",
     "output_type": "stream",
     "text": [
      "      39/50         0G     0.4282     0.7763     0.3422     0.9404         22        512: 100%|██████████| 10/10 [00:17\n",
      "                 Class     Images  Instances      Box(P          R      mAP50  mAP50-95)     Mask(P          R      mAP"
     ]
    },
    {
     "name": "stdout",
     "output_type": "stream",
     "text": [
      "                   all         10         10      0.994          1      0.995      0.889      0.994          1      0.995      0.707\n"
     ]
    },
    {
     "name": "stderr",
     "output_type": "stream",
     "text": [
      "\n"
     ]
    },
    {
     "name": "stdout",
     "output_type": "stream",
     "text": [
      "\n",
      "      Epoch    GPU_mem   box_loss   seg_loss   cls_loss   dfl_loss  Instances       Size\n"
     ]
    },
    {
     "name": "stderr",
     "output_type": "stream",
     "text": [
      "      40/50         0G     0.4581     0.8776     0.3649     0.9554         18        512: 100%|██████████| 10/10 [00:18\n",
      "                 Class     Images  Instances      Box(P          R      mAP50  mAP50-95)     Mask(P          R      mAP"
     ]
    },
    {
     "name": "stdout",
     "output_type": "stream",
     "text": [
      "                   all         10         10      0.994          1      0.995       0.87      0.994          1      0.995      0.711\n"
     ]
    },
    {
     "name": "stderr",
     "output_type": "stream",
     "text": [
      "\n"
     ]
    },
    {
     "name": "stdout",
     "output_type": "stream",
     "text": [
      "Closing dataloader mosaic\n",
      "\n",
      "      Epoch    GPU_mem   box_loss   seg_loss   cls_loss   dfl_loss  Instances       Size\n"
     ]
    },
    {
     "name": "stderr",
     "output_type": "stream",
     "text": [
      "      41/50         0G     0.3632     0.8256     0.3708     0.9293          8        512: 100%|██████████| 10/10 [00:18\n",
      "                 Class     Images  Instances      Box(P          R      mAP50  mAP50-95)     Mask(P          R      mAP"
     ]
    },
    {
     "name": "stdout",
     "output_type": "stream",
     "text": [
      "                   all         10         10      0.994          1      0.995      0.879      0.994          1      0.995      0.742\n"
     ]
    },
    {
     "name": "stderr",
     "output_type": "stream",
     "text": [
      "\n"
     ]
    },
    {
     "name": "stdout",
     "output_type": "stream",
     "text": [
      "\n",
      "      Epoch    GPU_mem   box_loss   seg_loss   cls_loss   dfl_loss  Instances       Size\n"
     ]
    },
    {
     "name": "stderr",
     "output_type": "stream",
     "text": [
      "      42/50         0G     0.3338      0.754     0.3475     0.8904          8        512: 100%|██████████| 10/10 [00:18\n",
      "                 Class     Images  Instances      Box(P          R      mAP50  mAP50-95)     Mask(P          R      mAP"
     ]
    },
    {
     "name": "stdout",
     "output_type": "stream",
     "text": [
      "                   all         10         10      0.995          1      0.995      0.861      0.995          1      0.995      0.729\n"
     ]
    },
    {
     "name": "stderr",
     "output_type": "stream",
     "text": [
      "\n"
     ]
    },
    {
     "name": "stdout",
     "output_type": "stream",
     "text": [
      "\n",
      "      Epoch    GPU_mem   box_loss   seg_loss   cls_loss   dfl_loss  Instances       Size\n"
     ]
    },
    {
     "name": "stderr",
     "output_type": "stream",
     "text": [
      "      43/50         0G     0.3217     0.6551     0.3069     0.9069          8        512: 100%|██████████| 10/10 [00:18\n",
      "                 Class     Images  Instances      Box(P          R      mAP50  mAP50-95)     Mask(P          R      mAP"
     ]
    },
    {
     "name": "stdout",
     "output_type": "stream",
     "text": [
      "                   all         10         10      0.995          1      0.995      0.883      0.995          1      0.995      0.713\n"
     ]
    },
    {
     "name": "stderr",
     "output_type": "stream",
     "text": [
      "\n"
     ]
    },
    {
     "name": "stdout",
     "output_type": "stream",
     "text": [
      "\n",
      "      Epoch    GPU_mem   box_loss   seg_loss   cls_loss   dfl_loss  Instances       Size\n"
     ]
    },
    {
     "name": "stderr",
     "output_type": "stream",
     "text": [
      "      44/50         0G     0.3418      0.752     0.3528     0.9589          8        512: 100%|██████████| 10/10 [00:17\n",
      "                 Class     Images  Instances      Box(P          R      mAP50  mAP50-95)     Mask(P          R      mAP"
     ]
    },
    {
     "name": "stdout",
     "output_type": "stream",
     "text": [
      "                   all         10         10      0.995          1      0.995      0.907      0.995          1      0.995       0.74\n"
     ]
    },
    {
     "name": "stderr",
     "output_type": "stream",
     "text": [
      "\n"
     ]
    },
    {
     "name": "stdout",
     "output_type": "stream",
     "text": [
      "\n",
      "      Epoch    GPU_mem   box_loss   seg_loss   cls_loss   dfl_loss  Instances       Size\n"
     ]
    },
    {
     "name": "stderr",
     "output_type": "stream",
     "text": [
      "      45/50         0G     0.2949     0.6802     0.2783     0.9164          8        512: 100%|██████████| 10/10 [00:18\n",
      "                 Class     Images  Instances      Box(P          R      mAP50  mAP50-95)     Mask(P          R      mAP"
     ]
    },
    {
     "name": "stdout",
     "output_type": "stream",
     "text": [
      "                   all         10         10      0.995          1      0.995      0.903      0.995          1      0.995      0.735\n"
     ]
    },
    {
     "name": "stderr",
     "output_type": "stream",
     "text": [
      "\n"
     ]
    },
    {
     "name": "stdout",
     "output_type": "stream",
     "text": [
      "\n",
      "      Epoch    GPU_mem   box_loss   seg_loss   cls_loss   dfl_loss  Instances       Size\n"
     ]
    },
    {
     "name": "stderr",
     "output_type": "stream",
     "text": [
      "      46/50         0G     0.2991     0.6588     0.2602     0.8787          8        512: 100%|██████████| 10/10 [00:17\n",
      "                 Class     Images  Instances      Box(P          R      mAP50  mAP50-95)     Mask(P          R      mAP"
     ]
    },
    {
     "name": "stdout",
     "output_type": "stream",
     "text": [
      "                   all         10         10      0.995          1      0.995      0.897      0.995          1      0.995      0.745\n"
     ]
    },
    {
     "name": "stderr",
     "output_type": "stream",
     "text": [
      "\n"
     ]
    },
    {
     "name": "stdout",
     "output_type": "stream",
     "text": [
      "\n",
      "      Epoch    GPU_mem   box_loss   seg_loss   cls_loss   dfl_loss  Instances       Size\n"
     ]
    },
    {
     "name": "stderr",
     "output_type": "stream",
     "text": [
      "      47/50         0G     0.2948      0.655      0.252     0.9206          8        512: 100%|██████████| 10/10 [00:17\n",
      "                 Class     Images  Instances      Box(P          R      mAP50  mAP50-95)     Mask(P          R      mAP"
     ]
    },
    {
     "name": "stdout",
     "output_type": "stream",
     "text": [
      "                   all         10         10      0.994          1      0.995      0.896      0.994          1      0.995      0.745\n"
     ]
    },
    {
     "name": "stderr",
     "output_type": "stream",
     "text": [
      "\n"
     ]
    },
    {
     "name": "stdout",
     "output_type": "stream",
     "text": [
      "\n",
      "      Epoch    GPU_mem   box_loss   seg_loss   cls_loss   dfl_loss  Instances       Size\n"
     ]
    },
    {
     "name": "stderr",
     "output_type": "stream",
     "text": [
      "      48/50         0G     0.2934     0.6525     0.2414     0.9327          8        512: 100%|██████████| 10/10 [00:18\n",
      "                 Class     Images  Instances      Box(P          R      mAP50  mAP50-95)     Mask(P          R      mAP"
     ]
    },
    {
     "name": "stdout",
     "output_type": "stream",
     "text": [
      "                   all         10         10      0.995          1      0.995       0.91      0.995          1      0.995      0.743\n"
     ]
    },
    {
     "name": "stderr",
     "output_type": "stream",
     "text": [
      "\n"
     ]
    },
    {
     "name": "stdout",
     "output_type": "stream",
     "text": [
      "\n",
      "      Epoch    GPU_mem   box_loss   seg_loss   cls_loss   dfl_loss  Instances       Size\n"
     ]
    },
    {
     "name": "stderr",
     "output_type": "stream",
     "text": [
      "      49/50         0G      0.273     0.6539     0.2416     0.8796          8        512: 100%|██████████| 10/10 [00:18\n",
      "                 Class     Images  Instances      Box(P          R      mAP50  mAP50-95)     Mask(P          R      mAP"
     ]
    },
    {
     "name": "stdout",
     "output_type": "stream",
     "text": [
      "                   all         10         10      0.994          1      0.995       0.91      0.994          1      0.995      0.767\n"
     ]
    },
    {
     "name": "stderr",
     "output_type": "stream",
     "text": [
      "\n"
     ]
    },
    {
     "name": "stdout",
     "output_type": "stream",
     "text": [
      "\n",
      "      Epoch    GPU_mem   box_loss   seg_loss   cls_loss   dfl_loss  Instances       Size\n"
     ]
    },
    {
     "name": "stderr",
     "output_type": "stream",
     "text": [
      "      50/50         0G     0.2901     0.6373     0.2462     0.8402          8        512: 100%|██████████| 10/10 [00:18\n",
      "                 Class     Images  Instances      Box(P          R      mAP50  mAP50-95)     Mask(P          R      mAP"
     ]
    },
    {
     "name": "stdout",
     "output_type": "stream",
     "text": [
      "                   all         10         10      0.994          1      0.995      0.911      0.994          1      0.995      0.759\n"
     ]
    },
    {
     "name": "stderr",
     "output_type": "stream",
     "text": [
      "\n"
     ]
    },
    {
     "name": "stdout",
     "output_type": "stream",
     "text": [
      "\n",
      "50 epochs completed in 0.277 hours.\n",
      "Optimizer stripped from data\\driveable_part_segmentation\\train_small_model\\weights\\last.pt, 23.8MB\n",
      "Optimizer stripped from data\\driveable_part_segmentation\\train_small_model\\weights\\best.pt, 23.8MB\n",
      "\n",
      "Validating data\\driveable_part_segmentation\\train_small_model\\weights\\best.pt...\n",
      "Ultralytics YOLOv8.2.22  Python-3.12.7 torch-2.5.0+cpu CPU (12th Gen Intel Core(TM) i7-12850HX)\n",
      "YOLOv8s-seg summary (fused): 195 layers, 11779987 parameters, 0 gradients, 42.4 GFLOPs\n"
     ]
    },
    {
     "name": "stderr",
     "output_type": "stream",
     "text": [
      "                 Class     Images  Instances      Box(P          R      mAP50  mAP50-95)     Mask(P          R      mAP\n"
     ]
    },
    {
     "name": "stdout",
     "output_type": "stream",
     "text": [
      "                   all         10         10      0.994          1      0.995      0.921      0.994          1      0.995      0.766\n",
      "Speed: 0.4ms preprocess, 68.2ms inference, 0.0ms loss, 1.6ms postprocess per image\n",
      "Results saved to \u001b[1mdata\\driveable_part_segmentation\\train_small_model\u001b[0m\n",
      "Trained model is copied to 'trained_models\\yolov8s_roundabouts_100.pt'.\n"
     ]
    }
   ],
   "source": [
    "# Path to model\n",
    "small_model_path = os.path.join(\"trained_models\", \"yolov8s_roundabouts_100.pt\")\n",
    "\n",
    "# Check if trained model is already available\n",
    "if os.path.isfile(small_model_path):\n",
    "    print(f\"Trained model is already available in '{small_model_path}'.\")\n",
    "# If not available, train the model\n",
    "else:\n",
    "    print(\"Trained model is not available, start training...\")\n",
    "\n",
    "    # Load a pretrained model\n",
    "    model = YOLO('yolov8s-seg.pt')\n",
    "\n",
    "    # Train the model\n",
    "    model.train(data=data_file, project=project_folder, name=\"train_small_model\", epochs=50, batch=8, imgsz=512, device='cpu', optimizer='Adam', lr0=0.001, lrf=0.01, flipud=0.5)\n",
    "\n",
    "    # Copy trained model to /trained_models/yolov8s_roundabouts.pt\n",
    "    src_path = os.path.join(\"data\", \"driveable_part_segmentation\", \"train_small_model\", \"weights\", \"best.pt\")\n",
    "    shutil.copy(src_path, small_model_path)\n",
    "    print(f\"Trained model is copied to '{small_model_path}'.\")"
   ]
  },
  {
   "cell_type": "markdown",
   "id": "af641645-14b2-41b7-8d97-0e57105c3eeb",
   "metadata": {},
   "source": [
    "### Different augmentations"
   ]
  },
  {
   "cell_type": "markdown",
   "id": "4b3fbd1f-2a6f-4afe-b4a7-e93338d74053",
   "metadata": {},
   "source": [
    "https://docs.ultralytics.com/modes/train/#augmentation-settings-and-hyperparameters"
   ]
  },
  {
   "cell_type": "markdown",
   "id": "22f1655b-9d30-4469-8c2e-3708d9829a40",
   "metadata": {
    "id": "22f1655b-9d30-4469-8c2e-3708d9829a40"
   },
   "source": [
    "## Validation"
   ]
  },
  {
   "cell_type": "code",
   "execution_count": 19,
   "id": "6bfb952d-a5a1-4f22-bb78-c6f9a044732e",
   "metadata": {
    "executionInfo": {
     "elapsed": 3,
     "status": "ok",
     "timestamp": 1718296384050,
     "user": {
      "displayName": "Spatial Data GeoAI Lab",
      "userId": "06380705436866579658"
     },
     "user_tz": -120
    },
    "id": "6bfb952d-a5a1-4f22-bb78-c6f9a044732e"
   },
   "outputs": [],
   "source": [
    "val_set = os.path.join(\"test_coco_to_yolo_out2\", \"images\", \"val\")"
   ]
  },
  {
   "cell_type": "markdown",
   "id": "d1bc5965-3516-4af4-a1e8-039460269b5e",
   "metadata": {},
   "source": [
    "### Nano"
   ]
  },
  {
   "cell_type": "code",
   "execution_count": 21,
   "id": "816ea888-2da9-466c-b398-63edc6ec748c",
   "metadata": {
    "colab": {
     "base_uri": "https://localhost:8080/"
    },
    "executionInfo": {
     "elapsed": 12246,
     "status": "ok",
     "timestamp": 1718296396294,
     "user": {
      "displayName": "Spatial Data GeoAI Lab",
      "userId": "06380705436866579658"
     },
     "user_tz": -120
    },
    "id": "816ea888-2da9-466c-b398-63edc6ec748c",
    "outputId": "b17dfb93-ceea-4f34-9f78-df6808ad98ee"
   },
   "outputs": [],
   "source": [
    "# Load model\n",
    "nano_model = YOLO(nano_model_path)"
   ]
  },
  {
   "cell_type": "code",
   "execution_count": 23,
   "id": "0b91f744-473f-47b8-b788-67256a1a0e16",
   "metadata": {
    "colab": {
     "base_uri": "https://localhost:8080/"
    },
    "executionInfo": {
     "elapsed": 376,
     "status": "ok",
     "timestamp": 1718296396660,
     "user": {
      "displayName": "Spatial Data GeoAI Lab",
      "userId": "06380705436866579658"
     },
     "user_tz": -120
    },
    "id": "0b91f744-473f-47b8-b788-67256a1a0e16",
    "outputId": "557afcbd-180c-4d58-d2fb-1fd1b59ea255"
   },
   "outputs": [
    {
     "name": "stdout",
     "output_type": "stream",
     "text": [
      "Creating data\\driveable_part_segmentation\\predict_nano_model_val...\n",
      "Results saved to \u001b[1mdata\\driveable_part_segmentation\\predict_nano_model_val\u001b[0m\n",
      "10 labels saved to data\\driveable_part_segmentation\\predict_nano_model_val\\labels\n"
     ]
    }
   ],
   "source": [
    "# Predict on validation set for computing IoU\n",
    "name_predict_nano_val = \"predict_nano_model_val\"\n",
    "output_predict_nano_val = os.path.join(project_folder, name_predict_nano_val)\n",
    "\n",
    "if not os.path.exists(output_predict_nano_val):\n",
    "    print(f\"Creating {output_predict_nano_val}...\")\n",
    "    nano_model.predict(source=val_set, conf=0.5, imgsz=512, save_txt=True, save_conf=True, verbose=False, project=project_folder, name=name_predict_nano_val)\n",
    "else:\n",
    "    print(f\"{output_predict_nano_val} already exists.\")"
   ]
  },
  {
   "cell_type": "markdown",
   "id": "3d61c11b-b1d8-40fc-aa21-f8026d26d21c",
   "metadata": {
    "id": "3d61c11b-b1d8-40fc-aa21-f8026d26d21c"
   },
   "source": [
    "## Test"
   ]
  },
  {
   "cell_type": "code",
   "execution_count": 25,
   "id": "cb05b941-dbf5-4735-923b-ad43cc56f6ef",
   "metadata": {
    "executionInfo": {
     "elapsed": 354,
     "status": "ok",
     "timestamp": 1718296417208,
     "user": {
      "displayName": "Spatial Data GeoAI Lab",
      "userId": "06380705436866579658"
     },
     "user_tz": -120
    },
    "id": "cb05b941-dbf5-4735-923b-ad43cc56f6ef"
   },
   "outputs": [],
   "source": [
    "test_set = os.path.join(\"test_coco_to_yolo_out2\", \"images\", \"test\")"
   ]
  },
  {
   "cell_type": "markdown",
   "id": "9a55a00a-1a41-4ae2-a2ea-9579f9bca43a",
   "metadata": {
    "id": "9a55a00a-1a41-4ae2-a2ea-9579f9bca43a"
   },
   "source": [
    "### Nano model"
   ]
  },
  {
   "cell_type": "code",
   "execution_count": 27,
   "id": "e95c5f16-5d5a-44f1-86a7-f51274513650",
   "metadata": {
    "id": "e95c5f16-5d5a-44f1-86a7-f51274513650"
   },
   "outputs": [],
   "source": [
    "# Load model\n",
    "nano_model = YOLO(nano_model_path)"
   ]
  },
  {
   "cell_type": "code",
   "execution_count": 33,
   "id": "274e09e7-5cc8-4c9e-a51c-bac824d4203c",
   "metadata": {
    "id": "274e09e7-5cc8-4c9e-a51c-bac824d4203c",
    "outputId": "0232082b-f753-4542-a788-2b4f8b2f5b40"
   },
   "outputs": [
    {
     "name": "stdout",
     "output_type": "stream",
     "text": [
      "Creating data\\driveable_part_segmentation\\test_nano_model...\n",
      "Ultralytics YOLOv8.2.22  Python-3.12.7 torch-2.5.0+cpu CPU (12th Gen Intel Core(TM) i7-12850HX)\n",
      "YOLOv8n-seg summary (fused): 195 layers, 3258259 parameters, 0 gradients, 12.0 GFLOPs\n"
     ]
    },
    {
     "name": "stderr",
     "output_type": "stream",
     "text": [
      "\u001b[34m\u001b[1mval: \u001b[0mScanning C:\\Users\\MulderLisa\\Documents\\Projecten\\rotondes\\test_coco_to_yolo_out2\\labels\\test... 10 images, 0 backg\u001b[0m"
     ]
    },
    {
     "name": "stdout",
     "output_type": "stream",
     "text": [
      "\u001b[34m\u001b[1mval: \u001b[0mNew cache created: C:\\Users\\MulderLisa\\Documents\\Projecten\\rotondes\\test_coco_to_yolo_out2\\labels\\test.cache\n"
     ]
    },
    {
     "name": "stderr",
     "output_type": "stream",
     "text": [
      "\n",
      "                 Class     Images  Instances      Box(P          R      mAP50  mAP50-95)     Mask(P          R      mAP\n"
     ]
    },
    {
     "name": "stdout",
     "output_type": "stream",
     "text": [
      "                   all         10         10      0.993        0.9      0.986      0.932      0.993        0.9      0.895      0.767\n",
      "Speed: 0.9ms preprocess, 41.9ms inference, 0.0ms loss, 0.1ms postprocess per image\n",
      "Results saved to \u001b[1mdata\\driveable_part_segmentation\\test_nano_model\u001b[0m\n"
     ]
    }
   ],
   "source": [
    "# Validate on test set for getting precision, recall, mAP50, F1-score\n",
    "name_test_nano = \"test_nano_model\"\n",
    "output_test_nano = os.path.join(project_folder, name_test_nano)\n",
    "\n",
    "if not os.path.exists(output_test_nano):\n",
    "    print(f\"Creating {output_test_nano}...\")\n",
    "    nano_model.val(data=data_file, split='test', imgsz=512, batch=8, device='cpu', project=project_folder, name=name_test_nano)\n",
    "else:\n",
    "    print(f\"{output_test_nano} already exists.\")"
   ]
  },
  {
   "cell_type": "code",
   "execution_count": 35,
   "id": "4f6f14f7-00d0-473f-8301-96afc5f387f4",
   "metadata": {
    "colab": {
     "base_uri": "https://localhost:8080/"
    },
    "executionInfo": {
     "elapsed": 246,
     "status": "ok",
     "timestamp": 1718296495856,
     "user": {
      "displayName": "Spatial Data GeoAI Lab",
      "userId": "06380705436866579658"
     },
     "user_tz": -120
    },
    "id": "4f6f14f7-00d0-473f-8301-96afc5f387f4",
    "outputId": "657547dd-c594-4493-9643-ec5cf401957f",
    "scrolled": true
   },
   "outputs": [
    {
     "name": "stdout",
     "output_type": "stream",
     "text": [
      "Creating data\\driveable_part_segmentation\\predict_nano_model_test...\n",
      "Results saved to \u001b[1mdata\\driveable_part_segmentation\\predict_nano_model_test\u001b[0m\n",
      "9 labels saved to data\\driveable_part_segmentation\\predict_nano_model_test\\labels\n"
     ]
    }
   ],
   "source": [
    "# Predict on test set for computing IoU\n",
    "name_predict_nano_test = \"predict_nano_model_test\"\n",
    "output_predict_nano_test = os.path.join(project_folder, name_predict_nano_test)\n",
    "\n",
    "if not os.path.exists(output_predict_nano_test):\n",
    "    print(f\"Creating {output_predict_nano_test}...\")\n",
    "    nano_model.predict(source=test_set, conf=0.5, imgsz=512, save=True, save_txt=True, save_conf=True, verbose=False, project=project_folder, name=name_predict_nano_test)\n",
    "else:\n",
    "    print(f\"{output_predict_nano_test} already exists.\")"
   ]
  },
  {
   "cell_type": "markdown",
   "id": "9e0510a2-2e9d-46d9-be62-fb5abdbc8bb3",
   "metadata": {
    "id": "9e0510a2-2e9d-46d9-be62-fb5abdbc8bb3"
   },
   "source": [
    "## Prediction on all images"
   ]
  },
  {
   "cell_type": "code",
   "execution_count": 38,
   "id": "e432b147-c51f-4e4f-bb8e-62150a5ad3a4",
   "metadata": {
    "id": "e432b147-c51f-4e4f-bb8e-62150a5ad3a4"
   },
   "outputs": [],
   "source": [
    "all_images = os.path.join(\"downloaded_images\")"
   ]
  },
  {
   "cell_type": "code",
   "execution_count": 40,
   "id": "S7Fa7RPlhmTB",
   "metadata": {
    "colab": {
     "base_uri": "https://localhost:8080/"
    },
    "executionInfo": {
     "elapsed": 54498,
     "status": "ok",
     "timestamp": 1718264416271,
     "user": {
      "displayName": "Spatial Data GeoAI Lab",
      "userId": "06380705436866579658"
     },
     "user_tz": -120
    },
    "id": "S7Fa7RPlhmTB",
    "outputId": "521010d2-5f5e-44a5-eb68-c393dc48c1af"
   },
   "outputs": [
    {
     "data": {
      "text/plain": [
       "2787"
      ]
     },
     "execution_count": 40,
     "metadata": {},
     "output_type": "execute_result"
    }
   ],
   "source": [
    "len(os.listdir(all_images))"
   ]
  },
  {
   "cell_type": "code",
   "execution_count": 57,
   "id": "3eac7938-f18f-4f45-a1a7-ec26de221c6b",
   "metadata": {
    "colab": {
     "base_uri": "https://localhost:8080/"
    },
    "executionInfo": {
     "elapsed": 26869,
     "status": "ok",
     "timestamp": 1718264476679,
     "user": {
      "displayName": "Spatial Data GeoAI Lab",
      "userId": "06380705436866579658"
     },
     "user_tz": -120
    },
    "id": "3eac7938-f18f-4f45-a1a7-ec26de221c6b",
    "outputId": "5fc06060-d1c3-4b5a-9b5d-e01b68e06175"
   },
   "outputs": [],
   "source": [
    "# Load best model\n",
    "best_model = YOLO(nano_model_path)"
   ]
  },
  {
   "cell_type": "code",
   "execution_count": 59,
   "id": "7262c4b9-0af5-4bbd-ae86-981271a60e04",
   "metadata": {
    "colab": {
     "base_uri": "https://localhost:8080/"
    },
    "executionInfo": {
     "elapsed": 9262468,
     "status": "ok",
     "timestamp": 1718273750570,
     "user": {
      "displayName": "Spatial Data GeoAI Lab",
      "userId": "06380705436866579658"
     },
     "user_tz": -120
    },
    "id": "7262c4b9-0af5-4bbd-ae86-981271a60e04",
    "outputId": "e330eb61-66c7-469b-dfad-fa646550623e"
   },
   "outputs": [
    {
     "name": "stdout",
     "output_type": "stream",
     "text": [
      "Creating data\\driveable_part_segmentation\\predict_best_model_all_images...\n",
      "Results saved to \u001b[1mdata\\driveable_part_segmentation\\predict_best_model_all_images\u001b[0m\n",
      "2574 labels saved to data\\driveable_part_segmentation\\predict_best_model_all_images\\labels\n"
     ]
    }
   ],
   "source": [
    "# Predict on all images\n",
    "name_predict_all = \"predict_best_model_all_images\"\n",
    "output_predict_all = os.path.join(project_folder, name_predict_all)\n",
    "\n",
    "if not os.path.exists(output_predict_all):\n",
    "    print(f\"Creating {output_predict_all}...\")\n",
    "    results = best_model.predict(source=all_images, conf=0.5, imgsz=512, save=True, save_txt=True, save_conf=True, stream=True, verbose=False, project=project_folder, name=name_predict_all)\n",
    "    try:\n",
    "        while True:\n",
    "            result = next(results)\n",
    "            pass\n",
    "    except StopIteration:\n",
    "        pass\n",
    "else:\n",
    "    print(f\"{output_predict_all} already exists.\")"
   ]
  }
 ],
 "metadata": {
  "accelerator": "GPU",
  "colab": {
   "gpuType": "T4",
   "provenance": []
  },
  "kernelspec": {
   "display_name": "Python [conda env:base] *",
   "language": "python",
   "name": "conda-base-py"
  },
  "language_info": {
   "codemirror_mode": {
    "name": "ipython",
    "version": 3
   },
   "file_extension": ".py",
   "mimetype": "text/x-python",
   "name": "python",
   "nbconvert_exporter": "python",
   "pygments_lexer": "ipython3",
   "version": "3.12.7"
  }
 },
 "nbformat": 4,
 "nbformat_minor": 5
}
